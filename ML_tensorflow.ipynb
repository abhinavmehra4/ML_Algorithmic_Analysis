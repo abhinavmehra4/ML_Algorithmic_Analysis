{
 "cells": [
  {
   "cell_type": "code",
   "execution_count": 1,
   "id": "358adcad",
   "metadata": {},
   "outputs": [],
   "source": [
    "import tensorflow as tf"
   ]
  },
  {
   "cell_type": "code",
   "execution_count": 2,
   "id": "8db9569f",
   "metadata": {},
   "outputs": [],
   "source": [
    "string = tf.Variable(\"This is a string\",tf.string)\n",
    "number = tf.Variable(435,tf.int16)\n",
    "floating = tf.Variable(45.98,tf.float64)\n"
   ]
  },
  {
   "cell_type": "markdown",
   "id": "59c13deb",
   "metadata": {},
   "source": [
    "Another word form rank is degree and these terms simply indicate the dimensions of the tensor.\n",
    "\n",
    "Above we have simply created a tensor of higher rank 0 or in facT a SCALAR"
   ]
  },
  {
   "cell_type": "code",
   "execution_count": 3,
   "id": "4c76b316",
   "metadata": {},
   "outputs": [],
   "source": [
    "rank1_tensor = tf.Variable(['tim','martha','john'],tf.string)\n",
    "rank2_tensor = tf.Variable([['hello', 'brian'],['good morning','brian']],tf.string)"
   ]
  },
  {
   "cell_type": "code",
   "execution_count": 4,
   "id": "63a22e26",
   "metadata": {},
   "outputs": [
    {
     "data": {
      "text/plain": [
       "<tf.Tensor: shape=(), dtype=int32, numpy=2>"
      ]
     },
     "execution_count": 4,
     "metadata": {},
     "output_type": "execute_result"
    }
   ],
   "source": [
    "tf.rank(rank2_tensor)"
   ]
  },
  {
   "cell_type": "markdown",
   "id": "5c24d712",
   "metadata": {},
   "source": [
    "#### Shape of a Tensor`"
   ]
  },
  {
   "cell_type": "markdown",
   "id": "b0afd00f",
   "metadata": {},
   "source": [
    "Amount of shapes that exist in each dimension.\n",
    "\n",
    "It is highly imperitive to know that the number of elements in each dimension must be the same or tensorflow will generate an error."
   ]
  },
  {
   "cell_type": "code",
   "execution_count": 5,
   "id": "1e322fa5",
   "metadata": {},
   "outputs": [
    {
     "data": {
      "text/plain": [
       "<tf.Tensor: shape=(1,), dtype=int32, numpy=array([3])>"
      ]
     },
     "execution_count": 5,
     "metadata": {},
     "output_type": "execute_result"
    }
   ],
   "source": [
    "tf.shape(rank1_tensor)"
   ]
  },
  {
   "cell_type": "code",
   "execution_count": 6,
   "id": "0d50bccd",
   "metadata": {},
   "outputs": [
    {
     "data": {
      "text/plain": [
       "<tf.Tensor: shape=(2,), dtype=int32, numpy=array([2, 2])>"
      ]
     },
     "execution_count": 6,
     "metadata": {},
     "output_type": "execute_result"
    }
   ],
   "source": [
    "tf.shape(rank2_tensor)"
   ]
  },
  {
   "cell_type": "markdown",
   "id": "4602522a",
   "metadata": {},
   "source": [
    "### Reshaping Data\n",
    "As long as the shape is valid we can change the shape of a tensor using the reshape method"
   ]
  },
  {
   "cell_type": "code",
   "execution_count": 7,
   "id": "5e6c9f0d",
   "metadata": {},
   "outputs": [],
   "source": [
    "tensor1 = tf.ones([1,2,3])\n",
    "tensor2 = tf.reshape(tensor1,[2,3,1])\n",
    "tensor3 = tf.reshape(tensor1,[3,-1]) #the -1 indicates that given the value 3, tensor flow will assume the other value to \n",
    "# to complete the dimensions. so Tensor flow assumed that the answer would be 2 because the dimension was 6"
   ]
  },
  {
   "cell_type": "code",
   "execution_count": 8,
   "id": "4ce0eed9",
   "metadata": {},
   "outputs": [
    {
     "name": "stdout",
     "output_type": "stream",
     "text": [
      "tf.Tensor(\n",
      "[[[1. 1. 1.]\n",
      "  [1. 1. 1.]]], shape=(1, 2, 3), dtype=float32)\n",
      "tf.Tensor(\n",
      "[[[1.]\n",
      "  [1.]\n",
      "  [1.]]\n",
      "\n",
      " [[1.]\n",
      "  [1.]\n",
      "  [1.]]], shape=(2, 3, 1), dtype=float32)\n",
      "tf.Tensor(\n",
      "[[1. 1.]\n",
      " [1. 1.]\n",
      " [1. 1.]], shape=(3, 2), dtype=float32)\n"
     ]
    }
   ],
   "source": [
    "print(tensor1)\n",
    "print(tensor2)\n",
    "print(tensor3)"
   ]
  },
  {
   "cell_type": "markdown",
   "id": "86cf7008",
   "metadata": {},
   "source": [
    "The product of the nubers in the dimensions gives the total number of elements in the tensor"
   ]
  },
  {
   "cell_type": "markdown",
   "id": "b3d5b367",
   "metadata": {},
   "source": [
    "There are different types of tensors\n",
    "    ->Variable,\n",
    "    ->Constant,\n",
    "    ->Placeholder,\n",
    "    ->Sparse Tensor,\n",
    "\n",
    "With the exception of variable, all the remaining are immutable. i.e their value will not change during execution"
   ]
  },
  {
   "cell_type": "markdown",
   "id": "dc0e8421",
   "metadata": {},
   "source": [
    "### Evaluating Tensors\n",
    "\n",
    "Sometimes we have to use the values of tensors to move forward. As tensors represent a apartially run computation, we have to a 'Session' to evaluate them."
   ]
  },
  {
   "cell_type": "markdown",
   "id": "fe1b2fc3",
   "metadata": {},
   "source": [
    "with tf.Session() as sess: #creates a session using a default graph\n",
    "    tensor.eval() #tensor will ofcourse be the name of our tensor"
   ]
  },
  {
   "cell_type": "markdown",
   "id": "52fa21a2",
   "metadata": {},
   "source": [
    "## Tensorflow core ML models\n",
    "- Linear Regression\n",
    "- Classification\n",
    "- Clustering\n",
    "- Hidden Markov Models\n"
   ]
  },
  {
   "cell_type": "code",
   "execution_count": 9,
   "id": "b8f1d771",
   "metadata": {},
   "outputs": [
    {
     "data": {
      "text/plain": [
       "(0.0, 6.0, 0.0, 20.0)"
      ]
     },
     "execution_count": 9,
     "metadata": {},
     "output_type": "execute_result"
    },
    {
     "data": {
      "image/png": "[encoded data removed]",
      "text/plain": [
       "<Figure size 432x288 with 1 Axes>"
      ]
     },
     "metadata": {
      "needs_background": "light"
     },
     "output_type": "display_data"
    }
   ],
   "source": [
    "import matplotlib.pyplot as plt\n",
    "import numpy as np\n",
    "\n",
    "x = [1,2.5,3,4,5]\n",
    "y = [1,4,7,9,15]\n",
    "\n",
    "plt.plot(x,y,'ro')\n",
    "plt.axis([0,6,0,20]) # x-ais goes from 0 to 6 and y axis goes from 0 to 20\n"
   ]
  },
  {
   "cell_type": "code",
   "execution_count": 10,
   "id": "6a183d28",
   "metadata": {},
   "outputs": [
    {
     "data": {
      "image/png": "[encoded data removed]",
      "text/plain": [
       "<Figure size 432x288 with 1 Axes>"
      ]
     },
     "metadata": {
      "needs_background": "light"
     },
     "output_type": "display_data"
    }
   ],
   "source": [
    "plt.plot(x, y, 'ro')\n",
    "plt.axis([0, 6, 0, 20])\n",
    "plt.plot(np.unique(x), np.poly1d(np.polyfit(x, y, 1))(np.unique(x)))\n",
    "plt.show()"
   ]
  },
  {
   "cell_type": "markdown",
   "id": "72af8641",
   "metadata": {},
   "source": [
    "To better undderstand it, in scatter plots we must add a line of best fit to see the relationship between its variables"
   ]
  },
  {
   "cell_type": "markdown",
   "id": "18823e15",
   "metadata": {},
   "source": [
    "Points to keep in mind while analysing a line of best fit\n",
    "\n",
    "- The line should ideally split the points equally on the both sides of the line\n",
    "- and all the points must lie close to the line\n",
    "\n",
    "If the above points are satisfied, it is a good line of fit"
   ]
  },
  {
   "cell_type": "code",
   "execution_count": 11,
   "id": "8af79156",
   "metadata": {},
   "outputs": [],
   "source": [
    "from __future__ import absolute_import, division, print_function, unicode_literals\n",
    "\n",
    "import numpy as np\n",
    "import pandas as pd\n",
    "import matplotlib.pyplot as plt\n",
    "from IPython.display import clear_output\n",
    "from six.moves import urllib\n",
    "\n",
    "import tensorflow.compat.v2.feature_column as fc\n",
    "\n",
    "import tensorflow as tf"
   ]
  },
  {
   "cell_type": "code",
   "execution_count": 12,
   "id": "cee6532b",
   "metadata": {},
   "outputs": [
    {
     "name": "stdout",
     "output_type": "stream",
     "text": [
      "   survived     sex   age  n_siblings_spouses  parch     fare  class     deck  \\\n",
      "0         0    male  22.0                   1      0   7.2500  Third  unknown   \n",
      "1         1  female  38.0                   1      0  71.2833  First        C   \n",
      "2         1  female  26.0                   0      0   7.9250  Third  unknown   \n",
      "3         1  female  35.0                   1      0  53.1000  First        C   \n",
      "4         0    male  28.0                   0      0   8.4583  Third  unknown   \n",
      "\n",
      "   embark_town alone  \n",
      "0  Southampton     n  \n",
      "1    Cherbourg     n  \n",
      "2  Southampton     y  \n",
      "3  Southampton     n  \n",
      "4   Queenstown     y  \n"
     ]
    }
   ],
   "source": [
    "# Load dataset.\n",
    "dftrain = pd.read_csv('https://storage.googleapis.com/tf-datasets/titanic/train.csv') # training dataset\n",
    "dfeval = pd.read_csv('https://storage.googleapis.com/tf-datasets/titanic/eval.csv') # testing dataset. This will be used to test the model\n",
    "print(dftrain.head())\n",
    "y_train = dftrain.pop('survived') \n",
    "#the survived column gets popped and stored in the variable y_train. We do this because the label needs to be separated.\n",
    "y_eval = dfeval.pop('survived')\n"
   ]
  },
  {
   "cell_type": "markdown",
   "id": "2e29419c",
   "metadata": {},
   "source": [
    "From seeing the excel sheet. we can see that we can form some form of correlation between the label, which in this case is \"no. of people who survived\", and other parameters effecting it. And considering the dataset on our hands we can form something of a linear relationship between each other\n"
   ]
  },
  {
   "cell_type": "code",
   "execution_count": 13,
   "id": "4ab4498f",
   "metadata": {},
   "outputs": [
    {
     "data": {
      "text/html": [
       "<div>\n",
       "<style scoped>\n",
       "    .dataframe tbody tr th:only-of-type {\n",
       "        vertical-align: middle;\n",
       "    }\n",
       "\n",
       "    .dataframe tbody tr th {\n",
       "        vertical-align: top;\n",
       "    }\n",
       "\n",
       "    .dataframe thead th {\n",
       "        text-align: right;\n",
       "    }\n",
       "</style>\n",
       "<table border=\"1\" class=\"dataframe\">\n",
       "  <thead>\n",
       "    <tr style=\"text-align: right;\">\n",
       "      <th></th>\n",
       "      <th>sex</th>\n",
       "      <th>age</th>\n",
       "      <th>n_siblings_spouses</th>\n",
       "      <th>parch</th>\n",
       "      <th>fare</th>\n",
       "      <th>class</th>\n",
       "      <th>deck</th>\n",
       "      <th>embark_town</th>\n",
       "      <th>alone</th>\n",
       "    </tr>\n",
       "  </thead>\n",
       "  <tbody>\n",
       "    <tr>\n",
       "      <th>0</th>\n",
       "      <td>male</td>\n",
       "      <td>22.0</td>\n",
       "      <td>1</td>\n",
       "      <td>0</td>\n",
       "      <td>7.2500</td>\n",
       "      <td>Third</td>\n",
       "      <td>unknown</td>\n",
       "      <td>Southampton</td>\n",
       "      <td>n</td>\n",
       "    </tr>\n",
       "    <tr>\n",
       "      <th>1</th>\n",
       "      <td>female</td>\n",
       "      <td>38.0</td>\n",
       "      <td>1</td>\n",
       "      <td>0</td>\n",
       "      <td>71.2833</td>\n",
       "      <td>First</td>\n",
       "      <td>C</td>\n",
       "      <td>Cherbourg</td>\n",
       "      <td>n</td>\n",
       "    </tr>\n",
       "    <tr>\n",
       "      <th>2</th>\n",
       "      <td>female</td>\n",
       "      <td>26.0</td>\n",
       "      <td>0</td>\n",
       "      <td>0</td>\n",
       "      <td>7.9250</td>\n",
       "      <td>Third</td>\n",
       "      <td>unknown</td>\n",
       "      <td>Southampton</td>\n",
       "      <td>y</td>\n",
       "    </tr>\n",
       "    <tr>\n",
       "      <th>3</th>\n",
       "      <td>female</td>\n",
       "      <td>35.0</td>\n",
       "      <td>1</td>\n",
       "      <td>0</td>\n",
       "      <td>53.1000</td>\n",
       "      <td>First</td>\n",
       "      <td>C</td>\n",
       "      <td>Southampton</td>\n",
       "      <td>n</td>\n",
       "    </tr>\n",
       "    <tr>\n",
       "      <th>4</th>\n",
       "      <td>male</td>\n",
       "      <td>28.0</td>\n",
       "      <td>0</td>\n",
       "      <td>0</td>\n",
       "      <td>8.4583</td>\n",
       "      <td>Third</td>\n",
       "      <td>unknown</td>\n",
       "      <td>Queenstown</td>\n",
       "      <td>y</td>\n",
       "    </tr>\n",
       "  </tbody>\n",
       "</table>\n",
       "</div>"
      ],
      "text/plain": [
       "      sex   age  n_siblings_spouses  parch     fare  class     deck  \\\n",
       "0    male  22.0                   1      0   7.2500  Third  unknown   \n",
       "1  female  38.0                   1      0  71.2833  First        C   \n",
       "2  female  26.0                   0      0   7.9250  Third  unknown   \n",
       "3  female  35.0                   1      0  53.1000  First        C   \n",
       "4    male  28.0                   0      0   8.4583  Third  unknown   \n",
       "\n",
       "   embark_town alone  \n",
       "0  Southampton     n  \n",
       "1    Cherbourg     n  \n",
       "2  Southampton     y  \n",
       "3  Southampton     n  \n",
       "4   Queenstown     y  "
      ]
     },
     "execution_count": 13,
     "metadata": {},
     "output_type": "execute_result"
    }
   ],
   "source": [
    "dftrain.head()"
   ]
  },
  {
   "cell_type": "code",
   "execution_count": 14,
   "id": "dd50c90f",
   "metadata": {},
   "outputs": [
    {
     "name": "stdout",
     "output_type": "stream",
     "text": [
      "0      0\n",
      "1      1\n",
      "2      1\n",
      "3      1\n",
      "4      0\n",
      "      ..\n",
      "622    0\n",
      "623    0\n",
      "624    1\n",
      "625    0\n",
      "626    0\n",
      "Name: survived, Length: 627, dtype: int64\n"
     ]
    }
   ],
   "source": [
    "print(y_train)"
   ]
  },
  {
   "cell_type": "code",
   "execution_count": 15,
   "id": "b7f8ed2f",
   "metadata": {},
   "outputs": [
    {
     "name": "stdout",
     "output_type": "stream",
     "text": [
      "sex                          male\n",
      "age                          22.0\n",
      "n_siblings_spouses              1\n",
      "parch                           0\n",
      "fare                         7.25\n",
      "class                       Third\n",
      "deck                      unknown\n",
      "embark_town           Southampton\n",
      "alone                           n\n",
      "Name: 0, dtype: object 0\n"
     ]
    }
   ],
   "source": [
    "#if we want to print a specific row we do this. This is a very helpful command\n",
    "print(dftrain.loc[0],y_train.loc[0]) #this corresponds to the first row"
   ]
  },
  {
   "cell_type": "code",
   "execution_count": 16,
   "id": "dd63923a",
   "metadata": {},
   "outputs": [
    {
     "data": {
      "text/html": [
       "<div>\n",
       "<style scoped>\n",
       "    .dataframe tbody tr th:only-of-type {\n",
       "        vertical-align: middle;\n",
       "    }\n",
       "\n",
       "    .dataframe tbody tr th {\n",
       "        vertical-align: top;\n",
       "    }\n",
       "\n",
       "    .dataframe thead th {\n",
       "        text-align: right;\n",
       "    }\n",
       "</style>\n",
       "<table border=\"1\" class=\"dataframe\">\n",
       "  <thead>\n",
       "    <tr style=\"text-align: right;\">\n",
       "      <th></th>\n",
       "      <th>sex</th>\n",
       "      <th>age</th>\n",
       "      <th>n_siblings_spouses</th>\n",
       "      <th>parch</th>\n",
       "      <th>fare</th>\n",
       "      <th>class</th>\n",
       "      <th>deck</th>\n",
       "      <th>embark_town</th>\n",
       "      <th>alone</th>\n",
       "    </tr>\n",
       "  </thead>\n",
       "  <tbody>\n",
       "    <tr>\n",
       "      <th>0</th>\n",
       "      <td>male</td>\n",
       "      <td>22.0</td>\n",
       "      <td>1</td>\n",
       "      <td>0</td>\n",
       "      <td>7.2500</td>\n",
       "      <td>Third</td>\n",
       "      <td>unknown</td>\n",
       "      <td>Southampton</td>\n",
       "      <td>n</td>\n",
       "    </tr>\n",
       "    <tr>\n",
       "      <th>1</th>\n",
       "      <td>female</td>\n",
       "      <td>38.0</td>\n",
       "      <td>1</td>\n",
       "      <td>0</td>\n",
       "      <td>71.2833</td>\n",
       "      <td>First</td>\n",
       "      <td>C</td>\n",
       "      <td>Cherbourg</td>\n",
       "      <td>n</td>\n",
       "    </tr>\n",
       "    <tr>\n",
       "      <th>2</th>\n",
       "      <td>female</td>\n",
       "      <td>26.0</td>\n",
       "      <td>0</td>\n",
       "      <td>0</td>\n",
       "      <td>7.9250</td>\n",
       "      <td>Third</td>\n",
       "      <td>unknown</td>\n",
       "      <td>Southampton</td>\n",
       "      <td>y</td>\n",
       "    </tr>\n",
       "    <tr>\n",
       "      <th>3</th>\n",
       "      <td>female</td>\n",
       "      <td>35.0</td>\n",
       "      <td>1</td>\n",
       "      <td>0</td>\n",
       "      <td>53.1000</td>\n",
       "      <td>First</td>\n",
       "      <td>C</td>\n",
       "      <td>Southampton</td>\n",
       "      <td>n</td>\n",
       "    </tr>\n",
       "    <tr>\n",
       "      <th>4</th>\n",
       "      <td>male</td>\n",
       "      <td>28.0</td>\n",
       "      <td>0</td>\n",
       "      <td>0</td>\n",
       "      <td>8.4583</td>\n",
       "      <td>Third</td>\n",
       "      <td>unknown</td>\n",
       "      <td>Queenstown</td>\n",
       "      <td>y</td>\n",
       "    </tr>\n",
       "  </tbody>\n",
       "</table>\n",
       "</div>"
      ],
      "text/plain": [
       "      sex   age  n_siblings_spouses  parch     fare  class     deck  \\\n",
       "0    male  22.0                   1      0   7.2500  Third  unknown   \n",
       "1  female  38.0                   1      0  71.2833  First        C   \n",
       "2  female  26.0                   0      0   7.9250  Third  unknown   \n",
       "3  female  35.0                   1      0  53.1000  First        C   \n",
       "4    male  28.0                   0      0   8.4583  Third  unknown   \n",
       "\n",
       "   embark_town alone  \n",
       "0  Southampton     n  \n",
       "1    Cherbourg     n  \n",
       "2  Southampton     y  \n",
       "3  Southampton     n  \n",
       "4   Queenstown     y  "
      ]
     },
     "execution_count": 16,
     "metadata": {},
     "output_type": "execute_result"
    }
   ],
   "source": [
    "dftrain.head()"
   ]
  },
  {
   "cell_type": "code",
   "execution_count": 17,
   "id": "5a6ed64b",
   "metadata": {},
   "outputs": [
    {
     "data": {
      "text/html": [
       "<div>\n",
       "<style scoped>\n",
       "    .dataframe tbody tr th:only-of-type {\n",
       "        vertical-align: middle;\n",
       "    }\n",
       "\n",
       "    .dataframe tbody tr th {\n",
       "        vertical-align: top;\n",
       "    }\n",
       "\n",
       "    .dataframe thead th {\n",
       "        text-align: right;\n",
       "    }\n",
       "</style>\n",
       "<table border=\"1\" class=\"dataframe\">\n",
       "  <thead>\n",
       "    <tr style=\"text-align: right;\">\n",
       "      <th></th>\n",
       "      <th>age</th>\n",
       "      <th>n_siblings_spouses</th>\n",
       "      <th>parch</th>\n",
       "      <th>fare</th>\n",
       "    </tr>\n",
       "  </thead>\n",
       "  <tbody>\n",
       "    <tr>\n",
       "      <th>count</th>\n",
       "      <td>627.000000</td>\n",
       "      <td>627.000000</td>\n",
       "      <td>627.000000</td>\n",
       "      <td>627.000000</td>\n",
       "    </tr>\n",
       "    <tr>\n",
       "      <th>mean</th>\n",
       "      <td>29.631308</td>\n",
       "      <td>0.545455</td>\n",
       "      <td>0.379585</td>\n",
       "      <td>34.385399</td>\n",
       "    </tr>\n",
       "    <tr>\n",
       "      <th>std</th>\n",
       "      <td>12.511818</td>\n",
       "      <td>1.151090</td>\n",
       "      <td>0.792999</td>\n",
       "      <td>54.597730</td>\n",
       "    </tr>\n",
       "    <tr>\n",
       "      <th>min</th>\n",
       "      <td>0.750000</td>\n",
       "      <td>0.000000</td>\n",
       "      <td>0.000000</td>\n",
       "      <td>0.000000</td>\n",
       "    </tr>\n",
       "    <tr>\n",
       "      <th>25%</th>\n",
       "      <td>23.000000</td>\n",
       "      <td>0.000000</td>\n",
       "      <td>0.000000</td>\n",
       "      <td>7.895800</td>\n",
       "    </tr>\n",
       "    <tr>\n",
       "      <th>50%</th>\n",
       "      <td>28.000000</td>\n",
       "      <td>0.000000</td>\n",
       "      <td>0.000000</td>\n",
       "      <td>15.045800</td>\n",
       "    </tr>\n",
       "    <tr>\n",
       "      <th>75%</th>\n",
       "      <td>35.000000</td>\n",
       "      <td>1.000000</td>\n",
       "      <td>0.000000</td>\n",
       "      <td>31.387500</td>\n",
       "    </tr>\n",
       "    <tr>\n",
       "      <th>max</th>\n",
       "      <td>80.000000</td>\n",
       "      <td>8.000000</td>\n",
       "      <td>5.000000</td>\n",
       "      <td>512.329200</td>\n",
       "    </tr>\n",
       "  </tbody>\n",
       "</table>\n",
       "</div>"
      ],
      "text/plain": [
       "              age  n_siblings_spouses       parch        fare\n",
       "count  627.000000          627.000000  627.000000  627.000000\n",
       "mean    29.631308            0.545455    0.379585   34.385399\n",
       "std     12.511818            1.151090    0.792999   54.597730\n",
       "min      0.750000            0.000000    0.000000    0.000000\n",
       "25%     23.000000            0.000000    0.000000    7.895800\n",
       "50%     28.000000            0.000000    0.000000   15.045800\n",
       "75%     35.000000            1.000000    0.000000   31.387500\n",
       "max     80.000000            8.000000    5.000000  512.329200"
      ]
     },
     "execution_count": 17,
     "metadata": {},
     "output_type": "execute_result"
    }
   ],
   "source": [
    "dftrain.describe()"
   ]
  },
  {
   "cell_type": "code",
   "execution_count": 18,
   "id": "5b9a6126",
   "metadata": {},
   "outputs": [
    {
     "data": {
      "text/html": [
       "<div>\n",
       "<style scoped>\n",
       "    .dataframe tbody tr th:only-of-type {\n",
       "        vertical-align: middle;\n",
       "    }\n",
       "\n",
       "    .dataframe tbody tr th {\n",
       "        vertical-align: top;\n",
       "    }\n",
       "\n",
       "    .dataframe thead th {\n",
       "        text-align: right;\n",
       "    }\n",
       "</style>\n",
       "<table border=\"1\" class=\"dataframe\">\n",
       "  <thead>\n",
       "    <tr style=\"text-align: right;\">\n",
       "      <th></th>\n",
       "      <th>sex</th>\n",
       "      <th>age</th>\n",
       "      <th>n_siblings_spouses</th>\n",
       "      <th>parch</th>\n",
       "      <th>fare</th>\n",
       "      <th>class</th>\n",
       "      <th>deck</th>\n",
       "      <th>embark_town</th>\n",
       "      <th>alone</th>\n",
       "    </tr>\n",
       "  </thead>\n",
       "  <tbody>\n",
       "    <tr>\n",
       "      <th>count</th>\n",
       "      <td>627</td>\n",
       "      <td>627.000000</td>\n",
       "      <td>627.000000</td>\n",
       "      <td>627.000000</td>\n",
       "      <td>627.000000</td>\n",
       "      <td>627</td>\n",
       "      <td>627</td>\n",
       "      <td>627</td>\n",
       "      <td>627</td>\n",
       "    </tr>\n",
       "    <tr>\n",
       "      <th>unique</th>\n",
       "      <td>2</td>\n",
       "      <td>NaN</td>\n",
       "      <td>NaN</td>\n",
       "      <td>NaN</td>\n",
       "      <td>NaN</td>\n",
       "      <td>3</td>\n",
       "      <td>8</td>\n",
       "      <td>4</td>\n",
       "      <td>2</td>\n",
       "    </tr>\n",
       "    <tr>\n",
       "      <th>top</th>\n",
       "      <td>male</td>\n",
       "      <td>NaN</td>\n",
       "      <td>NaN</td>\n",
       "      <td>NaN</td>\n",
       "      <td>NaN</td>\n",
       "      <td>Third</td>\n",
       "      <td>unknown</td>\n",
       "      <td>Southampton</td>\n",
       "      <td>y</td>\n",
       "    </tr>\n",
       "    <tr>\n",
       "      <th>freq</th>\n",
       "      <td>410</td>\n",
       "      <td>NaN</td>\n",
       "      <td>NaN</td>\n",
       "      <td>NaN</td>\n",
       "      <td>NaN</td>\n",
       "      <td>341</td>\n",
       "      <td>481</td>\n",
       "      <td>450</td>\n",
       "      <td>372</td>\n",
       "    </tr>\n",
       "    <tr>\n",
       "      <th>mean</th>\n",
       "      <td>NaN</td>\n",
       "      <td>29.631308</td>\n",
       "      <td>0.545455</td>\n",
       "      <td>0.379585</td>\n",
       "      <td>34.385399</td>\n",
       "      <td>NaN</td>\n",
       "      <td>NaN</td>\n",
       "      <td>NaN</td>\n",
       "      <td>NaN</td>\n",
       "    </tr>\n",
       "    <tr>\n",
       "      <th>std</th>\n",
       "      <td>NaN</td>\n",
       "      <td>12.511818</td>\n",
       "      <td>1.151090</td>\n",
       "      <td>0.792999</td>\n",
       "      <td>54.597730</td>\n",
       "      <td>NaN</td>\n",
       "      <td>NaN</td>\n",
       "      <td>NaN</td>\n",
       "      <td>NaN</td>\n",
       "    </tr>\n",
       "    <tr>\n",
       "      <th>min</th>\n",
       "      <td>NaN</td>\n",
       "      <td>0.750000</td>\n",
       "      <td>0.000000</td>\n",
       "      <td>0.000000</td>\n",
       "      <td>0.000000</td>\n",
       "      <td>NaN</td>\n",
       "      <td>NaN</td>\n",
       "      <td>NaN</td>\n",
       "      <td>NaN</td>\n",
       "    </tr>\n",
       "    <tr>\n",
       "      <th>25%</th>\n",
       "      <td>NaN</td>\n",
       "      <td>23.000000</td>\n",
       "      <td>0.000000</td>\n",
       "      <td>0.000000</td>\n",
       "      <td>7.895800</td>\n",
       "      <td>NaN</td>\n",
       "      <td>NaN</td>\n",
       "      <td>NaN</td>\n",
       "      <td>NaN</td>\n",
       "    </tr>\n",
       "    <tr>\n",
       "      <th>50%</th>\n",
       "      <td>NaN</td>\n",
       "      <td>28.000000</td>\n",
       "      <td>0.000000</td>\n",
       "      <td>0.000000</td>\n",
       "      <td>15.045800</td>\n",
       "      <td>NaN</td>\n",
       "      <td>NaN</td>\n",
       "      <td>NaN</td>\n",
       "      <td>NaN</td>\n",
       "    </tr>\n",
       "    <tr>\n",
       "      <th>75%</th>\n",
       "      <td>NaN</td>\n",
       "      <td>35.000000</td>\n",
       "      <td>1.000000</td>\n",
       "      <td>0.000000</td>\n",
       "      <td>31.387500</td>\n",
       "      <td>NaN</td>\n",
       "      <td>NaN</td>\n",
       "      <td>NaN</td>\n",
       "      <td>NaN</td>\n",
       "    </tr>\n",
       "    <tr>\n",
       "      <th>max</th>\n",
       "      <td>NaN</td>\n",
       "      <td>80.000000</td>\n",
       "      <td>8.000000</td>\n",
       "      <td>5.000000</td>\n",
       "      <td>512.329200</td>\n",
       "      <td>NaN</td>\n",
       "      <td>NaN</td>\n",
       "      <td>NaN</td>\n",
       "      <td>NaN</td>\n",
       "    </tr>\n",
       "  </tbody>\n",
       "</table>\n",
       "</div>"
      ],
      "text/plain": [
       "         sex         age  n_siblings_spouses       parch        fare  class  \\\n",
       "count    627  627.000000          627.000000  627.000000  627.000000    627   \n",
       "unique     2         NaN                 NaN         NaN         NaN      3   \n",
       "top     male         NaN                 NaN         NaN         NaN  Third   \n",
       "freq     410         NaN                 NaN         NaN         NaN    341   \n",
       "mean     NaN   29.631308            0.545455    0.379585   34.385399    NaN   \n",
       "std      NaN   12.511818            1.151090    0.792999   54.597730    NaN   \n",
       "min      NaN    0.750000            0.000000    0.000000    0.000000    NaN   \n",
       "25%      NaN   23.000000            0.000000    0.000000    7.895800    NaN   \n",
       "50%      NaN   28.000000            0.000000    0.000000   15.045800    NaN   \n",
       "75%      NaN   35.000000            1.000000    0.000000   31.387500    NaN   \n",
       "max      NaN   80.000000            8.000000    5.000000  512.329200    NaN   \n",
       "\n",
       "           deck  embark_town alone  \n",
       "count       627          627   627  \n",
       "unique        8            4     2  \n",
       "top     unknown  Southampton     y  \n",
       "freq        481          450   372  \n",
       "mean        NaN          NaN   NaN  \n",
       "std         NaN          NaN   NaN  \n",
       "min         NaN          NaN   NaN  \n",
       "25%         NaN          NaN   NaN  \n",
       "50%         NaN          NaN   NaN  \n",
       "75%         NaN          NaN   NaN  \n",
       "max         NaN          NaN   NaN  "
      ]
     },
     "execution_count": 18,
     "metadata": {},
     "output_type": "execute_result"
    }
   ],
   "source": [
    "dftrain.describe(include='all')"
   ]
  },
  {
   "cell_type": "code",
   "execution_count": 19,
   "id": "3421d61d",
   "metadata": {
    "scrolled": true
   },
   "outputs": [
    {
     "data": {
      "text/plain": [
       "0    0\n",
       "1    1\n",
       "2    1\n",
       "3    1\n",
       "4    0\n",
       "Name: survived, dtype: int64"
      ]
     },
     "execution_count": 19,
     "metadata": {},
     "output_type": "execute_result"
    }
   ],
   "source": [
    "y_train.head()"
   ]
  },
  {
   "cell_type": "markdown",
   "id": "021d911d",
   "metadata": {},
   "source": [
    "We need to plot some graphs and realize some form of a relationship or correlation between the label and the factors affecting it"
   ]
  },
  {
   "cell_type": "code",
   "execution_count": 20,
   "id": "dbcb60b6",
   "metadata": {},
   "outputs": [
    {
     "data": {
      "text/plain": [
       "<AxesSubplot:>"
      ]
     },
     "execution_count": 20,
     "metadata": {},
     "output_type": "execute_result"
    },
    {
     "data": {
      "image/png": "[encoded data removed]",
      "text/plain": [
       "<Figure size 432x288 with 1 Axes>"
      ]
     },
     "metadata": {
      "needs_background": "light"
     },
     "output_type": "display_data"
    }
   ],
   "source": [
    "dftrain.age.hist(bins=20) #histogram of ages"
   ]
  },
  {
   "cell_type": "markdown",
   "id": "98dfdd7e",
   "metadata": {},
   "source": [
    "Most passengers that survived are in their 20s and 30s"
   ]
  },
  {
   "cell_type": "code",
   "execution_count": 21,
   "id": "e224d569",
   "metadata": {},
   "outputs": [
    {
     "data": {
      "text/plain": [
       "<AxesSubplot:>"
      ]
     },
     "execution_count": 21,
     "metadata": {},
     "output_type": "execute_result"
    },
    {
     "data": {
      "image/png": "[encoded data removed]",
      "text/plain": [
       "<Figure size 432x288 with 1 Axes>"
      ]
     },
     "metadata": {
      "needs_background": "light"
     },
     "output_type": "display_data"
    }
   ],
   "source": [
    "dftrain.sex.value_counts().plot(kind='barh') #bar graph of the no. of males and females"
   ]
  },
  {
   "cell_type": "markdown",
   "id": "d94b0f5d",
   "metadata": {},
   "source": [
    "most of the passengers are male"
   ]
  },
  {
   "cell_type": "code",
   "execution_count": 22,
   "id": "104b5713",
   "metadata": {},
   "outputs": [
    {
     "data": {
      "text/plain": [
       "<AxesSubplot:>"
      ]
     },
     "execution_count": 22,
     "metadata": {},
     "output_type": "execute_result"
    },
    {
     "data": {
      "image/png": "[encoded data removed]",
      "text/plain": [
       "<Figure size 432x288 with 1 Axes>"
      ]
     },
     "metadata": {
      "needs_background": "light"
     },
     "output_type": "display_data"
    }
   ],
   "source": [
    "dftrain['sex'].value_counts().plot(kind='barh')"
   ]
  },
  {
   "cell_type": "code",
   "execution_count": 23,
   "id": "494f7472",
   "metadata": {},
   "outputs": [
    {
     "data": {
      "text/plain": [
       "<AxesSubplot:>"
      ]
     },
     "execution_count": 23,
     "metadata": {},
     "output_type": "execute_result"
    },
    {
     "data": {
      "image/png": "[encoded data removed]",
      "text/plain": [
       "<Figure size 432x288 with 1 Axes>"
      ]
     },
     "metadata": {
      "needs_background": "light"
     },
     "output_type": "display_data"
    }
   ],
   "source": [
    "#this is a better manner to access the data\n",
    "dftrain['class'].value_counts().plot(kind='barh')"
   ]
  },
  {
   "cell_type": "code",
   "execution_count": 24,
   "id": "069bd332",
   "metadata": {},
   "outputs": [
    {
     "data": {
      "text/html": [
       "<div>\n",
       "<style scoped>\n",
       "    .dataframe tbody tr th:only-of-type {\n",
       "        vertical-align: middle;\n",
       "    }\n",
       "\n",
       "    .dataframe tbody tr th {\n",
       "        vertical-align: top;\n",
       "    }\n",
       "\n",
       "    .dataframe thead th {\n",
       "        text-align: right;\n",
       "    }\n",
       "</style>\n",
       "<table border=\"1\" class=\"dataframe\">\n",
       "  <thead>\n",
       "    <tr style=\"text-align: right;\">\n",
       "      <th></th>\n",
       "      <th>sex</th>\n",
       "      <th>age</th>\n",
       "      <th>n_siblings_spouses</th>\n",
       "      <th>parch</th>\n",
       "      <th>fare</th>\n",
       "      <th>class</th>\n",
       "      <th>deck</th>\n",
       "      <th>embark_town</th>\n",
       "      <th>alone</th>\n",
       "      <th>survived</th>\n",
       "    </tr>\n",
       "  </thead>\n",
       "  <tbody>\n",
       "    <tr>\n",
       "      <th>0</th>\n",
       "      <td>male</td>\n",
       "      <td>22.0</td>\n",
       "      <td>1</td>\n",
       "      <td>0</td>\n",
       "      <td>7.2500</td>\n",
       "      <td>Third</td>\n",
       "      <td>unknown</td>\n",
       "      <td>Southampton</td>\n",
       "      <td>n</td>\n",
       "      <td>0</td>\n",
       "    </tr>\n",
       "    <tr>\n",
       "      <th>1</th>\n",
       "      <td>female</td>\n",
       "      <td>38.0</td>\n",
       "      <td>1</td>\n",
       "      <td>0</td>\n",
       "      <td>71.2833</td>\n",
       "      <td>First</td>\n",
       "      <td>C</td>\n",
       "      <td>Cherbourg</td>\n",
       "      <td>n</td>\n",
       "      <td>1</td>\n",
       "    </tr>\n",
       "    <tr>\n",
       "      <th>2</th>\n",
       "      <td>female</td>\n",
       "      <td>26.0</td>\n",
       "      <td>0</td>\n",
       "      <td>0</td>\n",
       "      <td>7.9250</td>\n",
       "      <td>Third</td>\n",
       "      <td>unknown</td>\n",
       "      <td>Southampton</td>\n",
       "      <td>y</td>\n",
       "      <td>1</td>\n",
       "    </tr>\n",
       "    <tr>\n",
       "      <th>3</th>\n",
       "      <td>female</td>\n",
       "      <td>35.0</td>\n",
       "      <td>1</td>\n",
       "      <td>0</td>\n",
       "      <td>53.1000</td>\n",
       "      <td>First</td>\n",
       "      <td>C</td>\n",
       "      <td>Southampton</td>\n",
       "      <td>n</td>\n",
       "      <td>1</td>\n",
       "    </tr>\n",
       "    <tr>\n",
       "      <th>4</th>\n",
       "      <td>male</td>\n",
       "      <td>28.0</td>\n",
       "      <td>0</td>\n",
       "      <td>0</td>\n",
       "      <td>8.4583</td>\n",
       "      <td>Third</td>\n",
       "      <td>unknown</td>\n",
       "      <td>Queenstown</td>\n",
       "      <td>y</td>\n",
       "      <td>0</td>\n",
       "    </tr>\n",
       "    <tr>\n",
       "      <th>5</th>\n",
       "      <td>male</td>\n",
       "      <td>2.0</td>\n",
       "      <td>3</td>\n",
       "      <td>1</td>\n",
       "      <td>21.0750</td>\n",
       "      <td>Third</td>\n",
       "      <td>unknown</td>\n",
       "      <td>Southampton</td>\n",
       "      <td>n</td>\n",
       "      <td>0</td>\n",
       "    </tr>\n",
       "    <tr>\n",
       "      <th>6</th>\n",
       "      <td>female</td>\n",
       "      <td>27.0</td>\n",
       "      <td>0</td>\n",
       "      <td>2</td>\n",
       "      <td>11.1333</td>\n",
       "      <td>Third</td>\n",
       "      <td>unknown</td>\n",
       "      <td>Southampton</td>\n",
       "      <td>n</td>\n",
       "      <td>1</td>\n",
       "    </tr>\n",
       "    <tr>\n",
       "      <th>7</th>\n",
       "      <td>female</td>\n",
       "      <td>14.0</td>\n",
       "      <td>1</td>\n",
       "      <td>0</td>\n",
       "      <td>30.0708</td>\n",
       "      <td>Second</td>\n",
       "      <td>unknown</td>\n",
       "      <td>Cherbourg</td>\n",
       "      <td>n</td>\n",
       "      <td>1</td>\n",
       "    </tr>\n",
       "    <tr>\n",
       "      <th>9</th>\n",
       "      <td>male</td>\n",
       "      <td>20.0</td>\n",
       "      <td>0</td>\n",
       "      <td>0</td>\n",
       "      <td>8.0500</td>\n",
       "      <td>Third</td>\n",
       "      <td>unknown</td>\n",
       "      <td>Southampton</td>\n",
       "      <td>y</td>\n",
       "      <td>0</td>\n",
       "    </tr>\n",
       "    <tr>\n",
       "      <th>10</th>\n",
       "      <td>male</td>\n",
       "      <td>39.0</td>\n",
       "      <td>1</td>\n",
       "      <td>5</td>\n",
       "      <td>31.2750</td>\n",
       "      <td>Third</td>\n",
       "      <td>unknown</td>\n",
       "      <td>Southampton</td>\n",
       "      <td>n</td>\n",
       "      <td>0</td>\n",
       "    </tr>\n",
       "  </tbody>\n",
       "</table>\n",
       "</div>"
      ],
      "text/plain": [
       "       sex   age  n_siblings_spouses  parch     fare   class     deck  \\\n",
       "0     male  22.0                   1      0   7.2500   Third  unknown   \n",
       "1   female  38.0                   1      0  71.2833   First        C   \n",
       "2   female  26.0                   0      0   7.9250   Third  unknown   \n",
       "3   female  35.0                   1      0  53.1000   First        C   \n",
       "4     male  28.0                   0      0   8.4583   Third  unknown   \n",
       "5     male   2.0                   3      1  21.0750   Third  unknown   \n",
       "6   female  27.0                   0      2  11.1333   Third  unknown   \n",
       "7   female  14.0                   1      0  30.0708  Second  unknown   \n",
       "9     male  20.0                   0      0   8.0500   Third  unknown   \n",
       "10    male  39.0                   1      5  31.2750   Third  unknown   \n",
       "\n",
       "    embark_town alone  survived  \n",
       "0   Southampton     n         0  \n",
       "1     Cherbourg     n         1  \n",
       "2   Southampton     y         1  \n",
       "3   Southampton     n         1  \n",
       "4    Queenstown     y         0  \n",
       "5   Southampton     n         0  \n",
       "6   Southampton     n         1  \n",
       "7     Cherbourg     n         1  \n",
       "9   Southampton     y         0  \n",
       "10  Southampton     n         0  "
      ]
     },
     "execution_count": 24,
     "metadata": {},
     "output_type": "execute_result"
    }
   ],
   "source": [
    "dff=pd.concat([dftrain,y_train],axis=1).groupby('sex')\n",
    "dff.head()\n",
    "#as we can see, 'sex' becomes the defining column, i.e it becomes the first column\n",
    "#that people see and understand that the divisions are made by giving 'sex', the priority"
   ]
  },
  {
   "cell_type": "code",
   "execution_count": 25,
   "id": "a3fb5474",
   "metadata": {},
   "outputs": [
    {
     "data": {
      "text/plain": [
       "Text(0.5, 0, '% survived')"
      ]
     },
     "execution_count": 25,
     "metadata": {},
     "output_type": "execute_result"
    },
    {
     "data": {
      "image/png": "[encoded data removed]",
      "text/plain": [
       "<Figure size 432x288 with 1 Axes>"
      ]
     },
     "metadata": {
      "needs_background": "light"
     },
     "output_type": "display_data"
    }
   ],
   "source": [
    "pd.concat([dftrain,y_train],axis=1).groupby('sex').survived.mean().plot(kind='barh').set_xlabel('% survived')"
   ]
  },
  {
   "cell_type": "markdown",
   "id": "2aa83cd5",
   "metadata": {},
   "source": [
    "the sex that hs survived the most is FEMALE"
   ]
  },
  {
   "cell_type": "markdown",
   "id": "22f48cdc",
   "metadata": {},
   "source": [
    "After analyzing this information, we should notice the following:\n",
    "\n",
    ">Most passengers are in their 20's or 30's\n",
    "\n",
    ">Most passengers are male\n",
    "\n",
    ">Most passengers are in \"Third\" class\n",
    "\n",
    ">Females have a much higher chance of survival"
   ]
  },
  {
   "cell_type": "markdown",
   "id": "bcd9d6e5",
   "metadata": {},
   "source": [
    "Feature Columns\n",
    "In our dataset we have two different kinds of information: Categorical and Numeric\n",
    "\n",
    "Our categorical data is anything that is not numeric! For example, the sex column does not use numbers, it uses the words \"male\" and \"female\".\n",
    "\n",
    "Before we continue and create/train a model we must convet our categorical data into numeric data. We can do this by encoding each category with an integer (ex. male = 1, female = 2). THIS IS ONE-HOT-ENCODING\n",
    "\n",
    "Fortunately for us TensorFlow has some tools to help!\n",
    "\n"
   ]
  },
  {
   "cell_type": "code",
   "execution_count": 26,
   "id": "d26e6df4",
   "metadata": {},
   "outputs": [],
   "source": [
    "CATEGORICAL_COLUMNS = ['sex', 'n_siblings_spouses', 'parch', 'class', 'deck',\n",
    "                       'embark_town', 'alone']\n",
    "NUMERIC_COLUMNS = ['age', 'fare']\n",
    "\n",
    "#for creating a linear estimator, we create the following empty list\n",
    "feature_columns = []\n"
   ]
  },
  {
   "cell_type": "code",
   "execution_count": 27,
   "id": "aa98610b",
   "metadata": {},
   "outputs": [
    {
     "name": "stdout",
     "output_type": "stream",
     "text": [
      "[VocabularyListCategoricalColumn(key='sex', vocabulary_list=('male', 'female'), dtype=tf.string, default_value=-1, num_oov_buckets=0), VocabularyListCategoricalColumn(key='n_siblings_spouses', vocabulary_list=(1, 0, 3, 4, 2, 5, 8), dtype=tf.int64, default_value=-1, num_oov_buckets=0), VocabularyListCategoricalColumn(key='parch', vocabulary_list=(0, 1, 2, 5, 3, 4), dtype=tf.int64, default_value=-1, num_oov_buckets=0), VocabularyListCategoricalColumn(key='class', vocabulary_list=('Third', 'First', 'Second'), dtype=tf.string, default_value=-1, num_oov_buckets=0), VocabularyListCategoricalColumn(key='deck', vocabulary_list=('unknown', 'C', 'G', 'A', 'B', 'D', 'F', 'E'), dtype=tf.string, default_value=-1, num_oov_buckets=0), VocabularyListCategoricalColumn(key='embark_town', vocabulary_list=('Southampton', 'Cherbourg', 'Queenstown', 'unknown'), dtype=tf.string, default_value=-1, num_oov_buckets=0), VocabularyListCategoricalColumn(key='alone', vocabulary_list=('n', 'y'), dtype=tf.string, default_value=-1, num_oov_buckets=0), NumericColumn(key='age', shape=(1,), default_value=None, dtype=tf.float32, normalizer_fn=None), NumericColumn(key='fare', shape=(1,), default_value=None, dtype=tf.float32, normalizer_fn=None)]\n"
     ]
    }
   ],
   "source": [
    "for feature_name in CATEGORICAL_COLUMNS:\n",
    "    vocabulary = dftrain[feature_name].unique() #gets all the unique values from a particular categorical variable column\n",
    "    feature_columns.append(tf.feature_column.categorical_column_with_vocabulary_list(feature_name, vocabulary))\n",
    "for feature_name in NUMERIC_COLUMNS:\n",
    "    feature_columns.append(tf.feature_column.numeric_column(feature_name, dtype=tf.float32))\n",
    "    \n",
    "print(feature_columns)"
   ]
  },
  {
   "cell_type": "markdown",
   "id": "0c8d5789",
   "metadata": {},
   "source": [
    "A form of a numpy array is created and where feature's different categorical variable values are stored"
   ]
  },
  {
   "cell_type": "markdown",
   "id": "425c38cc",
   "metadata": {},
   "source": [
    "Essentially what we are doing here is creating a list of features that are used in our dataset.\n",
    "\n",
    "The cryptic lines of code inside the append() create an object that our model can use to map string values like \"male\" and \"female\" to integers. This allows us to avoid manually having to encode our dataframes."
   ]
  },
  {
   "cell_type": "markdown",
   "id": "615ae46a",
   "metadata": {},
   "source": [
    "#### The Training Process\n",
    "So, we are almost done preparing our dataset and I feel as though it's a good time to explain how our model is trained. Specifically, how input data is fed to our model.\n",
    "\n",
    "For this specific model data is going to be streamed into it in small batches of 32. This means we will not feed the entire dataset to our model at once, but simply small batches of entries. We will feed these batches to our model multiple times according to the number of epochs.\n",
    "\n",
    "An epoch is simply one stream of our entire dataset. The number of epochs we define is the amount of times our model will see the entire dataset. We use multiple epochs in hope that after seeing the same data multiple times the model will better determine how to estimate it.\n",
    "\n",
    "Ex. if we have 10 ephocs, our model will see the same dataset 10 times.\n",
    "\n",
    "Since we need to feed our data in batches and multiple times, we need to create something called an input function.\n",
    "\n",
    "The input function simply defines how our dataset will be converted into batches at each epoch."
   ]
  },
  {
   "cell_type": "code",
   "execution_count": 28,
   "id": "2e852b1e",
   "metadata": {},
   "outputs": [],
   "source": [
    "def make_input_fn(data_df, label_df, num_epochs=10, shuffle=True, batch_size=32):\n",
    "  def input_function():  # inner function, this will be returned\n",
    "    ds = tf.data.Dataset.from_tensor_slices((dict(data_df), label_df))  # create tf.data.Dataset object with data and its label\n",
    "    if shuffle:\n",
    "      ds = ds.shuffle(1000)  # randomize order of data\n",
    "    ds = ds.batch(batch_size).repeat(num_epochs)  # split dataset into batches of 32 and repeat process for number of epochs\n",
    "    return ds  # return a batch of the dataset\n",
    "  return input_function  # return a function object for use\n",
    "\n",
    "\n",
    "#Hence as we can see we created the following input functions. One for training and one for evaluation.\n",
    "train_input_fn = make_input_fn(dftrain, y_train)  # here we will call the input_function that was returned to us to get a dataset object we can feed to the model\n",
    "eval_input_fn = make_input_fn(dfeval, y_eval, num_epochs=1, shuffle=False)\n"
   ]
  },
  {
   "cell_type": "markdown",
   "id": "14119714",
   "metadata": {},
   "source": [
    "### WE NOW FINALLY CREATE THE MODEL\n",
    "we are going to use a linear estimator to utilize the linear regression algorithm."
   ]
  },
  {
   "cell_type": "code",
   "execution_count": 29,
   "id": "6e82007e",
   "metadata": {},
   "outputs": [
    {
     "name": "stdout",
     "output_type": "stream",
     "text": [
      "INFO:tensorflow:Using default config.\n",
      "WARNING:tensorflow:Using temporary folder as model directory: C:\\Users\\mehra\\AppData\\Local\\Temp\\tmp11u8b1do\n",
      "INFO:tensorflow:Using config: {'_model_dir': 'C:\\\\Users\\\\mehra\\\\AppData\\\\Local\\\\Temp\\\\tmp11u8b1do', '_tf_random_seed': None, '_save_summary_steps': 100, '_save_checkpoints_steps': None, '_save_checkpoints_secs': 600, '_session_config': allow_soft_placement: true\n",
      "graph_options {\n",
      "  rewrite_options {\n",
      "    meta_optimizer_iterations: ONE\n",
      "  }\n",
      "}\n",
      ", '_keep_checkpoint_max': 5, '_keep_checkpoint_every_n_hours': 10000, '_log_step_count_steps': 100, '_train_distribute': None, '_device_fn': None, '_protocol': None, '_eval_distribute': None, '_experimental_distribute': None, '_experimental_max_worker_delay_secs': None, '_session_creation_timeout_secs': 7200, '_checkpoint_save_graph_def': True, '_service': None, '_cluster_spec': ClusterSpec({}), '_task_type': 'worker', '_task_id': 0, '_global_id_in_cluster': 0, '_master': '', '_evaluation_master': '', '_is_chief': True, '_num_ps_replicas': 0, '_num_worker_replicas': 1}\n"
     ]
    }
   ],
   "source": [
    "linear_est = tf.estimator.LinearClassifier(feature_columns=feature_columns)\n",
    "\n",
    "#We pass in the feature_columns to the LinearClassifier object of the estimator module in tensorflow"
   ]
  },
  {
   "cell_type": "markdown",
   "id": "65bba0ea",
   "metadata": {},
   "source": [
    "#### TRAINING THE MODEL"
   ]
  },
  {
   "cell_type": "code",
   "execution_count": 30,
   "id": "673d817e",
   "metadata": {},
   "outputs": [
    {
     "name": "stdout",
     "output_type": "stream",
     "text": [
      "{'accuracy': 0.77272725, 'accuracy_baseline': 0.625, 'auc': 0.82359964, 'auc_precision_recall': 0.777725, 'average_loss': 0.51154065, 'label/mean': 0.375, 'loss': 0.5020303, 'precision': 0.7407407, 'prediction/mean': 0.30023888, 'recall': 0.6060606, 'global_step': 200}\n"
     ]
    }
   ],
   "source": [
    "linear_est.train(train_input_fn) #train. we pass the training dataset.\n",
    "result = linear_est.evaluate(eval_input_fn) #evaluate the model and store the results. But we past the testing dataset\n",
    "\n",
    "clear_output() #clear console output\n",
    "#print(result['accuracy'])\n",
    "print(result)\n",
    "\n"
   ]
  },
  {
   "cell_type": "markdown",
   "id": "f214435e",
   "metadata": {},
   "source": [
    "Hence we get dictionary of a lot of things. but the one that we focus most is accuracy"
   ]
  },
  {
   "cell_type": "code",
   "execution_count": 31,
   "id": "beca2b81",
   "metadata": {},
   "outputs": [
    {
     "name": "stdout",
     "output_type": "stream",
     "text": [
      "0.77272725\n"
     ]
    }
   ],
   "source": [
    "print(result['accuracy'])"
   ]
  },
  {
   "cell_type": "markdown",
   "id": "d0dc5d12",
   "metadata": {},
   "source": [
    "So we can see that the model has an accuracy of 75.75% \n",
    "And we now we have a model with a 74% accuracy (this will change each time)! Not crazy impressive but decent for our first try.\n",
    "\n",
    "Now let's see how we can actually use this model to make predicitons.\n",
    "\n",
    "We can use the .predict() method to get survival probabilities from the model. This method will return a list of dicts that store a predicition for each of the entries in our testing data set. Below we've used some pandas magic to plot a nice graph of the predictions.\n",
    "\n",
    "As you can see the survival rate is not very high :/"
   ]
  },
  {
   "cell_type": "code",
   "execution_count": 32,
   "id": "bd1c9531",
   "metadata": {},
   "outputs": [
    {
     "name": "stdout",
     "output_type": "stream",
     "text": [
      "INFO:tensorflow:Calling model_fn.\n",
      "INFO:tensorflow:Done calling model_fn.\n",
      "INFO:tensorflow:Graph was finalized.\n",
      "INFO:tensorflow:Restoring parameters from C:\\Users\\mehra\\AppData\\Local\\Temp\\tmp11u8b1do\\model.ckpt-200\n",
      "INFO:tensorflow:Running local_init_op.\n",
      "INFO:tensorflow:Done running local_init_op.\n",
      "[0.9425772  0.05742283]\n"
     ]
    }
   ],
   "source": [
    "result = list(linear_est.predict(eval_input_fn))\n",
    "print(result[0]['probabilities'])"
   ]
  },
  {
   "cell_type": "code",
   "execution_count": 33,
   "id": "c77b0d31",
   "metadata": {},
   "outputs": [
    {
     "name": "stdout",
     "output_type": "stream",
     "text": [
      "sex                        female\n",
      "age                          55.0\n",
      "n_siblings_spouses              0\n",
      "parch                           0\n",
      "fare                         16.0\n",
      "class                      Second\n",
      "deck                      unknown\n",
      "embark_town           Southampton\n",
      "alone                           y\n",
      "Name: 3, dtype: object\n",
      "0.4812519\n",
      "0.5187481\n",
      "The code of surviving is 1\n"
     ]
    }
   ],
   "source": [
    "#this shows the probability of the third person's chances of survival\n",
    "print(dfeval.loc[3])\n",
    "print(result[3]['probabilities'][0]) #this is the probability of not surviving \n",
    "print(result[3]['probabilities'][1]) #this is the probability of surviving\n",
    "\n",
    "#Did they actually survive or not is given by\n",
    "print('The code of surviving is '+ str(y_eval.loc[3]))"
   ]
  },
  {
   "cell_type": "code",
   "execution_count": 34,
   "id": "82277021",
   "metadata": {},
   "outputs": [
    {
     "name": "stdout",
     "output_type": "stream",
     "text": [
      "INFO:tensorflow:Calling model_fn.\n",
      "INFO:tensorflow:Done calling model_fn.\n",
      "INFO:tensorflow:Graph was finalized.\n",
      "INFO:tensorflow:Restoring parameters from C:\\Users\\mehra\\AppData\\Local\\Temp\\tmp11u8b1do\\model.ckpt-200\n",
      "INFO:tensorflow:Running local_init_op.\n",
      "INFO:tensorflow:Done running local_init_op.\n"
     ]
    },
    {
     "data": {
      "text/plain": [
       "<AxesSubplot:title={'center':'predicted probabilities'}, ylabel='Frequency'>"
      ]
     },
     "execution_count": 34,
     "metadata": {},
     "output_type": "execute_result"
    },
    {
     "data": {
      "image/png": "[encoded data removed]",
      "text/plain": [
       "<Figure size 432x288 with 1 Axes>"
      ]
     },
     "metadata": {
      "needs_background": "light"
     },
     "output_type": "display_data"
    }
   ],
   "source": [
    "#we can even plot the predictions \n",
    "predicted_dictionaries = list(linear_est.predict(eval_input_fn))\n",
    "#print(predicted_dictionaries)\n",
    "probability = pd.Series(pred['probabilities'][1] for pred in predicted_dictionaries) \n",
    "#the above code converts the probablities  into a pandas series. The 'predicted_dictionaries' gives a lot of predicted parameters.\n",
    "#We choose the dictionary key, 'probabilities' (which is a tuple) and from this tuple we extract the 2nd element which is the probability of survival\n",
    "probability.plot(kind='hist',bins=20,title='predicted probabilities')\n",
    "\n",
    "\n"
   ]
  },
  {
   "cell_type": "markdown",
   "id": "b6c6b5ab",
   "metadata": {},
   "source": [
    "### CLASSIFICATION MODEL"
   ]
  },
  {
   "cell_type": "markdown",
   "id": "1bb7f328",
   "metadata": {},
   "source": [
    "Now that we've covered linear regression it is time to talk about classification. Where regression was used to predict a numeric value, classification is used to seperate data points into classes of different labels. In this example we will use a TensorFlow estimator to classify flowers.\n",
    "\n",
    "So in this case we are going to be calculating probabilities of lying in a particular class for a particular data point\n",
    "\n",
    "THERE ARE MANY CLASSIFICATION MODELS."
   ]
  },
  {
   "cell_type": "code",
   "execution_count": 35,
   "id": "084111f4",
   "metadata": {},
   "outputs": [],
   "source": [
    "from __future__ import absolute_import, division, print_function, unicode_literals\n",
    "\n",
    "\n",
    "import tensorflow as tf\n",
    "\n",
    "import pandas as pd"
   ]
  },
  {
   "cell_type": "markdown",
   "id": "a574028c",
   "metadata": {},
   "source": [
    "##### Dataset\n",
    "This specific dataset seperates flowers into 3 different classes of species.\n",
    "\n",
    ">Setosa\n",
    "\n",
    ">Versicolor\n",
    "\n",
    ">Virginica\n",
    "\n",
    "The information about each flower is the following.\n",
    "\n",
    "> sepal length\n",
    "\n",
    "> sepal width\n",
    "\n",
    "> petal length\n",
    "\n",
    "> petal width"
   ]
  },
  {
   "cell_type": "code",
   "execution_count": 42,
   "id": "df1f31bc",
   "metadata": {},
   "outputs": [],
   "source": [
    "CSV_COLUMN_NAMES = ['SepalLength', 'SepalWidth', 'PetalLength', 'PetalWidth', 'Species']\n",
    "SPECIES = ['Setosa', 'Versicolor', 'Virginica']\n",
    "# Lets define some constants to help us later on\n"
   ]
  },
  {
   "cell_type": "code",
   "execution_count": 43,
   "id": "fb76b59a",
   "metadata": {},
   "outputs": [],
   "source": [
    "train_path = tf.keras.utils.get_file(\n",
    "    \"iris_training.csv\", \"https://storage.googleapis.com/download.tensorflow.org/data/iris_training.csv\")\n",
    "test_path = tf.keras.utils.get_file(\n",
    "    \"iris_test.csv\", \"https://storage.googleapis.com/download.tensorflow.org/data/iris_test.csv\")\n",
    "\n",
    "train = pd.read_csv(train_path, names=CSV_COLUMN_NAMES, header=0)\n",
    "test = pd.read_csv(test_path, names=CSV_COLUMN_NAMES, header=0)\n",
    "# Here we use keras (a module inside of TensorFlow) to grab our datasets and read them into a pandas dataframe"
   ]
  },
  {
   "cell_type": "code",
   "execution_count": 44,
   "id": "38c2c8bf",
   "metadata": {},
   "outputs": [
    {
     "data": {
      "text/html": [
       "<div>\n",
       "<style scoped>\n",
       "    .dataframe tbody tr th:only-of-type {\n",
       "        vertical-align: middle;\n",
       "    }\n",
       "\n",
       "    .dataframe tbody tr th {\n",
       "        vertical-align: top;\n",
       "    }\n",
       "\n",
       "    .dataframe thead th {\n",
       "        text-align: right;\n",
       "    }\n",
       "</style>\n",
       "<table border=\"1\" class=\"dataframe\">\n",
       "  <thead>\n",
       "    <tr style=\"text-align: right;\">\n",
       "      <th></th>\n",
       "      <th>SepalLength</th>\n",
       "      <th>SepalWidth</th>\n",
       "      <th>PetalLength</th>\n",
       "      <th>PetalWidth</th>\n",
       "      <th>Species</th>\n",
       "    </tr>\n",
       "  </thead>\n",
       "  <tbody>\n",
       "    <tr>\n",
       "      <th>0</th>\n",
       "      <td>6.4</td>\n",
       "      <td>2.8</td>\n",
       "      <td>5.6</td>\n",
       "      <td>2.2</td>\n",
       "      <td>2</td>\n",
       "    </tr>\n",
       "    <tr>\n",
       "      <th>1</th>\n",
       "      <td>5.0</td>\n",
       "      <td>2.3</td>\n",
       "      <td>3.3</td>\n",
       "      <td>1.0</td>\n",
       "      <td>1</td>\n",
       "    </tr>\n",
       "    <tr>\n",
       "      <th>2</th>\n",
       "      <td>4.9</td>\n",
       "      <td>2.5</td>\n",
       "      <td>4.5</td>\n",
       "      <td>1.7</td>\n",
       "      <td>2</td>\n",
       "    </tr>\n",
       "    <tr>\n",
       "      <th>3</th>\n",
       "      <td>4.9</td>\n",
       "      <td>3.1</td>\n",
       "      <td>1.5</td>\n",
       "      <td>0.1</td>\n",
       "      <td>0</td>\n",
       "    </tr>\n",
       "    <tr>\n",
       "      <th>4</th>\n",
       "      <td>5.7</td>\n",
       "      <td>3.8</td>\n",
       "      <td>1.7</td>\n",
       "      <td>0.3</td>\n",
       "      <td>0</td>\n",
       "    </tr>\n",
       "  </tbody>\n",
       "</table>\n",
       "</div>"
      ],
      "text/plain": [
       "   SepalLength  SepalWidth  PetalLength  PetalWidth  Species\n",
       "0          6.4         2.8          5.6         2.2        2\n",
       "1          5.0         2.3          3.3         1.0        1\n",
       "2          4.9         2.5          4.5         1.7        2\n",
       "3          4.9         3.1          1.5         0.1        0\n",
       "4          5.7         3.8          1.7         0.3        0"
      ]
     },
     "execution_count": 44,
     "metadata": {},
     "output_type": "execute_result"
    }
   ],
   "source": [
    "train.head()"
   ]
  },
  {
   "cell_type": "code",
   "execution_count": 46,
   "id": "5b6e5195",
   "metadata": {},
   "outputs": [
    {
     "data": {
      "text/html": [
       "<div>\n",
       "<style scoped>\n",
       "    .dataframe tbody tr th:only-of-type {\n",
       "        vertical-align: middle;\n",
       "    }\n",
       "\n",
       "    .dataframe tbody tr th {\n",
       "        vertical-align: top;\n",
       "    }\n",
       "\n",
       "    .dataframe thead th {\n",
       "        text-align: right;\n",
       "    }\n",
       "</style>\n",
       "<table border=\"1\" class=\"dataframe\">\n",
       "  <thead>\n",
       "    <tr style=\"text-align: right;\">\n",
       "      <th></th>\n",
       "      <th>SepalLength</th>\n",
       "      <th>SepalWidth</th>\n",
       "      <th>PetalLength</th>\n",
       "      <th>PetalWidth</th>\n",
       "    </tr>\n",
       "  </thead>\n",
       "  <tbody>\n",
       "    <tr>\n",
       "      <th>0</th>\n",
       "      <td>6.4</td>\n",
       "      <td>2.8</td>\n",
       "      <td>5.6</td>\n",
       "      <td>2.2</td>\n",
       "    </tr>\n",
       "    <tr>\n",
       "      <th>1</th>\n",
       "      <td>5.0</td>\n",
       "      <td>2.3</td>\n",
       "      <td>3.3</td>\n",
       "      <td>1.0</td>\n",
       "    </tr>\n",
       "    <tr>\n",
       "      <th>2</th>\n",
       "      <td>4.9</td>\n",
       "      <td>2.5</td>\n",
       "      <td>4.5</td>\n",
       "      <td>1.7</td>\n",
       "    </tr>\n",
       "    <tr>\n",
       "      <th>3</th>\n",
       "      <td>4.9</td>\n",
       "      <td>3.1</td>\n",
       "      <td>1.5</td>\n",
       "      <td>0.1</td>\n",
       "    </tr>\n",
       "    <tr>\n",
       "      <th>4</th>\n",
       "      <td>5.7</td>\n",
       "      <td>3.8</td>\n",
       "      <td>1.7</td>\n",
       "      <td>0.3</td>\n",
       "    </tr>\n",
       "  </tbody>\n",
       "</table>\n",
       "</div>"
      ],
      "text/plain": [
       "   SepalLength  SepalWidth  PetalLength  PetalWidth\n",
       "0          6.4         2.8          5.6         2.2\n",
       "1          5.0         2.3          3.3         1.0\n",
       "2          4.9         2.5          4.5         1.7\n",
       "3          4.9         3.1          1.5         0.1\n",
       "4          5.7         3.8          1.7         0.3"
      ]
     },
     "execution_count": 46,
     "metadata": {},
     "output_type": "execute_result"
    }
   ],
   "source": [
    "train_y = train.pop('Species')\n",
    "test_y = test.pop('Species')\n",
    "train.head() # the species column is now gone"
   ]
  },
  {
   "cell_type": "code",
   "execution_count": 48,
   "id": "c0e8f931",
   "metadata": {},
   "outputs": [
    {
     "data": {
      "text/plain": [
       "(120, 4)"
      ]
     },
     "execution_count": 48,
     "metadata": {},
     "output_type": "execute_result"
    }
   ],
   "source": [
    "train.shape\n"
   ]
  },
  {
   "cell_type": "code",
   "execution_count": 49,
   "id": "4d4c4c8c",
   "metadata": {},
   "outputs": [],
   "source": [
    "#We have to create ann input function\n",
    "def input_fn(features, labels, training=True, batch_size=256):\n",
    "    # Convert the inputs to a Dataset.\n",
    "    dataset = tf.data.Dataset.from_tensor_slices((dict(features), labels))\n",
    "\n",
    "    # Shuffle and repeat if you are in training mode.\n",
    "    if training:\n",
    "        dataset = dataset.shuffle(1000).repeat()\n",
    "    \n",
    "    return dataset.batch(batch_size)\n"
   ]
  },
  {
   "cell_type": "code",
   "execution_count": 52,
   "id": "8485f687",
   "metadata": {},
   "outputs": [
    {
     "name": "stdout",
     "output_type": "stream",
     "text": [
      "[NumericColumn(key='SepalLength', shape=(1,), default_value=None, dtype=tf.float32, normalizer_fn=None), NumericColumn(key='SepalWidth', shape=(1,), default_value=None, dtype=tf.float32, normalizer_fn=None), NumericColumn(key='PetalLength', shape=(1,), default_value=None, dtype=tf.float32, normalizer_fn=None), NumericColumn(key='PetalWidth', shape=(1,), default_value=None, dtype=tf.float32, normalizer_fn=None)]\n"
     ]
    }
   ],
   "source": [
    "train.keys() #this gives the column headings\n",
    "my_feature_columns = []\n",
    "for key in train.keys():\n",
    "    my_feature_columns.append(tf.feature_column.numeric_column(key=key))\n",
    "print(my_feature_columns)\n"
   ]
  },
  {
   "cell_type": "markdown",
   "id": "d414c241",
   "metadata": {},
   "source": [
    "#### Building the Model\n",
    "And now we are ready to choose a model. For classification tasks there are variety of different estimators/models that we can pick from. Some options are listed below.\n",
    "\n",
    "DNNClassifier (Deep Neural Network)\n",
    "\n",
    "LinearClassifier\n",
    "\n",
    "We can choose either model but the DNN seems to be the best choice. This is because we may not be able to find a linear coorespondence in our data.\n",
    "\n"
   ]
  },
  {
   "cell_type": "code",
   "execution_count": 53,
   "id": "00e383b0",
   "metadata": {},
   "outputs": [
    {
     "name": "stdout",
     "output_type": "stream",
     "text": [
      "INFO:tensorflow:Using default config.\n",
      "WARNING:tensorflow:Using temporary folder as model directory: C:\\Users\\mehra\\AppData\\Local\\Temp\\tmp05ki1w5w\n",
      "INFO:tensorflow:Using config: {'_model_dir': 'C:\\\\Users\\\\mehra\\\\AppData\\\\Local\\\\Temp\\\\tmp05ki1w5w', '_tf_random_seed': None, '_save_summary_steps': 100, '_save_checkpoints_steps': None, '_save_checkpoints_secs': 600, '_session_config': allow_soft_placement: true\n",
      "graph_options {\n",
      "  rewrite_options {\n",
      "    meta_optimizer_iterations: ONE\n",
      "  }\n",
      "}\n",
      ", '_keep_checkpoint_max': 5, '_keep_checkpoint_every_n_hours': 10000, '_log_step_count_steps': 100, '_train_distribute': None, '_device_fn': None, '_protocol': None, '_eval_distribute': None, '_experimental_distribute': None, '_experimental_max_worker_delay_secs': None, '_session_creation_timeout_secs': 7200, '_checkpoint_save_graph_def': True, '_service': None, '_cluster_spec': ClusterSpec({}), '_task_type': 'worker', '_task_id': 0, '_global_id_in_cluster': 0, '_master': '', '_evaluation_master': '', '_is_chief': True, '_num_ps_replicas': 0, '_num_worker_replicas': 1}\n"
     ]
    }
   ],
   "source": [
    "classifier = tf.estimator.DNNClassifier(feature_columns=my_feature_columns, hidden_units=[30,10],n_classes=3)\n",
    "\n",
    "#there are 30 nodes in the first hidden layer adn 10 hidden nodes in the second hidden layer\n",
    "#and since we already know that there are 3 classes Setosa, Versicolor and Virginica, we put n_classes =3\n",
    "\n"
   ]
  },
  {
   "cell_type": "markdown",
   "id": "0f09eeda",
   "metadata": {},
   "source": [
    "What we've just done is created a deep neural network that has two hidden layers. These layers have 30 and 10 neurons respectively. This is the number of neurons the TensorFlow official tutorial uses so we'll stick with it. However, it is worth mentioning that the number of hidden neurons is an arbitrary number and many experiments and tests are usually done to determine the best choice for these values. Try playing around with the number of hidden neurons and see if your results change."
   ]
  },
  {
   "cell_type": "markdown",
   "id": "4b665f1c",
   "metadata": {},
   "source": [
    "#### TRAINING THE MODEL\n"
   ]
  },
  {
   "cell_type": "code",
   "execution_count": 56,
   "id": "970efaa8",
   "metadata": {},
   "outputs": [
    {
     "name": "stdout",
     "output_type": "stream",
     "text": [
      "INFO:tensorflow:Calling model_fn.\n",
      "INFO:tensorflow:Done calling model_fn.\n",
      "INFO:tensorflow:Create CheckpointSaverHook.\n",
      "INFO:tensorflow:Graph was finalized.\n",
      "INFO:tensorflow:Restoring parameters from C:\\Users\\mehra\\AppData\\Local\\Temp\\tmp05ki1w5w\\model.ckpt-5000\n",
      "WARNING:tensorflow:From C:\\Users\\mehra\\AppData\\Local\\Programs\\Python\\Python39\\lib\\site-packages\\tensorflow\\python\\training\\saver.py:1161: get_checkpoint_mtimes (from tensorflow.python.training.checkpoint_management) is deprecated and will be removed in a future version.\n",
      "Instructions for updating:\n",
      "Use standard file utilities to get mtimes.\n",
      "INFO:tensorflow:Running local_init_op.\n",
      "INFO:tensorflow:Done running local_init_op.\n",
      "INFO:tensorflow:Calling checkpoint listeners before saving checkpoint 5000...\n",
      "INFO:tensorflow:Saving checkpoints for 5000 into C:\\Users\\mehra\\AppData\\Local\\Temp\\tmp05ki1w5w\\model.ckpt.\n",
      "INFO:tensorflow:Calling checkpoint listeners after saving checkpoint 5000...\n",
      "INFO:tensorflow:loss = 0.37012815, step = 5000\n",
      "INFO:tensorflow:global_step/sec: 296.916\n",
      "INFO:tensorflow:loss = 0.36869738, step = 5100 (0.345 sec)\n",
      "INFO:tensorflow:global_step/sec: 361.279\n",
      "INFO:tensorflow:loss = 0.37497061, step = 5200 (0.271 sec)\n",
      "INFO:tensorflow:global_step/sec: 375.616\n",
      "INFO:tensorflow:loss = 0.36098075, step = 5300 (0.272 sec)\n",
      "INFO:tensorflow:global_step/sec: 402.492\n",
      "INFO:tensorflow:loss = 0.36430103, step = 5400 (0.240 sec)\n",
      "INFO:tensorflow:global_step/sec: 398.375\n",
      "INFO:tensorflow:loss = 0.35038888, step = 5500 (0.251 sec)\n",
      "INFO:tensorflow:global_step/sec: 395.951\n",
      "INFO:tensorflow:loss = 0.3572291, step = 5600 (0.272 sec)\n",
      "INFO:tensorflow:global_step/sec: 380.054\n",
      "INFO:tensorflow:loss = 0.35544035, step = 5700 (0.243 sec)\n",
      "INFO:tensorflow:global_step/sec: 399.91\n",
      "INFO:tensorflow:loss = 0.3405557, step = 5800 (0.250 sec)\n",
      "INFO:tensorflow:global_step/sec: 397.839\n",
      "INFO:tensorflow:loss = 0.34787884, step = 5900 (0.251 sec)\n",
      "INFO:tensorflow:global_step/sec: 406.368\n",
      "INFO:tensorflow:loss = 0.33616367, step = 6000 (0.249 sec)\n",
      "INFO:tensorflow:global_step/sec: 322.084\n",
      "INFO:tensorflow:loss = 0.3308003, step = 6100 (0.309 sec)\n",
      "INFO:tensorflow:global_step/sec: 412.571\n",
      "INFO:tensorflow:loss = 0.32748023, step = 6200 (0.242 sec)\n",
      "INFO:tensorflow:global_step/sec: 414.777\n",
      "INFO:tensorflow:loss = 0.3385997, step = 6300 (0.250 sec)\n",
      "INFO:tensorflow:global_step/sec: 398.94\n",
      "INFO:tensorflow:loss = 0.3280853, step = 6400 (0.242 sec)\n",
      "INFO:tensorflow:global_step/sec: 413.414\n",
      "INFO:tensorflow:loss = 0.32702333, step = 6500 (0.250 sec)\n",
      "INFO:tensorflow:global_step/sec: 400.275\n",
      "INFO:tensorflow:loss = 0.319484, step = 6600 (0.242 sec)\n",
      "INFO:tensorflow:global_step/sec: 387.682\n",
      "INFO:tensorflow:loss = 0.31875628, step = 6700 (0.266 sec)\n",
      "INFO:tensorflow:global_step/sec: 393.812\n",
      "INFO:tensorflow:loss = 0.31612164, step = 6800 (0.248 sec)\n",
      "INFO:tensorflow:global_step/sec: 406.468\n",
      "INFO:tensorflow:loss = 0.3157884, step = 6900 (0.244 sec)\n",
      "INFO:tensorflow:global_step/sec: 413.418\n",
      "INFO:tensorflow:loss = 0.31003368, step = 7000 (0.242 sec)\n",
      "INFO:tensorflow:global_step/sec: 400.489\n",
      "INFO:tensorflow:loss = 0.30897182, step = 7100 (0.250 sec)\n",
      "INFO:tensorflow:global_step/sec: 400.33\n",
      "INFO:tensorflow:loss = 0.30869287, step = 7200 (0.250 sec)\n",
      "INFO:tensorflow:global_step/sec: 412.817\n",
      "INFO:tensorflow:loss = 0.2981851, step = 7300 (0.242 sec)\n",
      "INFO:tensorflow:global_step/sec: 399.707\n",
      "INFO:tensorflow:loss = 0.307841, step = 7400 (0.250 sec)\n",
      "INFO:tensorflow:global_step/sec: 413.624\n",
      "INFO:tensorflow:loss = 0.3089174, step = 7500 (0.250 sec)\n",
      "INFO:tensorflow:global_step/sec: 400.263\n",
      "INFO:tensorflow:loss = 0.29576263, step = 7600 (0.242 sec)\n",
      "INFO:tensorflow:global_step/sec: 400.21\n",
      "INFO:tensorflow:loss = 0.2952188, step = 7700 (0.250 sec)\n",
      "INFO:tensorflow:global_step/sec: 408.184\n",
      "INFO:tensorflow:loss = 0.3016934, step = 7800 (0.245 sec)\n",
      "INFO:tensorflow:global_step/sec: 405.382\n",
      "INFO:tensorflow:loss = 0.29478854, step = 7900 (0.247 sec)\n",
      "INFO:tensorflow:global_step/sec: 400.447\n",
      "INFO:tensorflow:loss = 0.28766027, step = 8000 (0.250 sec)\n",
      "INFO:tensorflow:global_step/sec: 414.698\n",
      "INFO:tensorflow:loss = 0.29337406, step = 8100 (0.242 sec)\n",
      "INFO:tensorflow:global_step/sec: 413.125\n",
      "INFO:tensorflow:loss = 0.2995296, step = 8200 (0.241 sec)\n",
      "INFO:tensorflow:global_step/sec: 412.952\n",
      "INFO:tensorflow:loss = 0.28268003, step = 8300 (0.242 sec)\n",
      "INFO:tensorflow:global_step/sec: 414.405\n",
      "INFO:tensorflow:loss = 0.2682969, step = 8400 (0.241 sec)\n",
      "INFO:tensorflow:global_step/sec: 413.361\n",
      "INFO:tensorflow:loss = 0.28009468, step = 8500 (0.242 sec)\n",
      "INFO:tensorflow:global_step/sec: 400.596\n",
      "INFO:tensorflow:loss = 0.27700782, step = 8600 (0.250 sec)\n",
      "INFO:tensorflow:global_step/sec: 400.321\n",
      "INFO:tensorflow:loss = 0.26740205, step = 8700 (0.250 sec)\n",
      "INFO:tensorflow:global_step/sec: 412.81\n",
      "INFO:tensorflow:loss = 0.26741445, step = 8800 (0.242 sec)\n",
      "INFO:tensorflow:global_step/sec: 342.159\n",
      "INFO:tensorflow:loss = 0.26677424, step = 8900 (0.292 sec)\n",
      "INFO:tensorflow:global_step/sec: 337.232\n",
      "INFO:tensorflow:loss = 0.25884718, step = 9000 (0.305 sec)\n",
      "INFO:tensorflow:global_step/sec: 337.8\n",
      "INFO:tensorflow:loss = 0.26647198, step = 9100 (0.288 sec)\n",
      "INFO:tensorflow:global_step/sec: 358.618\n",
      "INFO:tensorflow:loss = 0.2669773, step = 9200 (0.279 sec)\n",
      "INFO:tensorflow:global_step/sec: 347.153\n",
      "INFO:tensorflow:loss = 0.26099214, step = 9300 (0.288 sec)\n",
      "INFO:tensorflow:global_step/sec: 423.152\n",
      "INFO:tensorflow:loss = 0.25619638, step = 9400 (0.236 sec)\n",
      "INFO:tensorflow:global_step/sec: 417.501\n",
      "INFO:tensorflow:loss = 0.25907984, step = 9500 (0.240 sec)\n",
      "INFO:tensorflow:global_step/sec: 415.159\n",
      "INFO:tensorflow:loss = 0.2528062, step = 9600 (0.241 sec)\n",
      "INFO:tensorflow:global_step/sec: 437.616\n",
      "INFO:tensorflow:loss = 0.24973701, step = 9700 (0.229 sec)\n",
      "INFO:tensorflow:global_step/sec: 413.883\n",
      "INFO:tensorflow:loss = 0.24850935, step = 9800 (0.242 sec)\n",
      "INFO:tensorflow:global_step/sec: 431.266\n",
      "INFO:tensorflow:loss = 0.25686127, step = 9900 (0.232 sec)\n",
      "INFO:tensorflow:Calling checkpoint listeners before saving checkpoint 10000...\n",
      "INFO:tensorflow:Saving checkpoints for 10000 into C:\\Users\\mehra\\AppData\\Local\\Temp\\tmp05ki1w5w\\model.ckpt.\n",
      "INFO:tensorflow:Calling checkpoint listeners after saving checkpoint 10000...\n",
      "INFO:tensorflow:Loss for final step: 0.25205994.\n"
     ]
    },
    {
     "data": {
      "text/plain": [
       "\"\\nHere lambda is 1 line function. So what is defined after ':', is what the function actually does\\n\""
      ]
     },
     "execution_count": 56,
     "metadata": {},
     "output_type": "execute_result"
    }
   ],
   "source": [
    "classifier.train(input_fn=lambda:input_fn(train,train_y,training=True),steps=5000)\n",
    "\n",
    "#lambda is added to avoid creating an inner function previously\n",
    "\"\"\"\n",
    "Here lambda is 1 line function. So what is defined after ':', is what the function actually does\n",
    "\n",
    "x = lambda: print('hi)\n",
    "x()\n",
    "\n",
    "the output will be 'hi'\n",
    "\"\"\"\n",
    "#we are running 5000 steps. More steps is not always good"
   ]
  },
  {
   "cell_type": "code",
   "execution_count": 55,
   "id": "d9618668",
   "metadata": {},
   "outputs": [
    {
     "name": "stdout",
     "output_type": "stream",
     "text": [
      "INFO:tensorflow:Calling model_fn.\n",
      "INFO:tensorflow:Done calling model_fn.\n",
      "INFO:tensorflow:Starting evaluation at 2022-04-21T21:01:17\n",
      "INFO:tensorflow:Graph was finalized.\n",
      "INFO:tensorflow:Restoring parameters from C:\\Users\\mehra\\AppData\\Local\\Temp\\tmp05ki1w5w\\model.ckpt-5000\n",
      "INFO:tensorflow:Running local_init_op.\n",
      "INFO:tensorflow:Done running local_init_op.\n",
      "INFO:tensorflow:Inference Time : 0.54260s\n",
      "INFO:tensorflow:Finished evaluation at 2022-04-21-21:01:18\n",
      "INFO:tensorflow:Saving dict for global step 5000: accuracy = 0.9, average_loss = 0.4379735, global_step = 5000, loss = 0.4379735\n",
      "INFO:tensorflow:Saving 'checkpoint_path' summary for global step 5000: C:\\Users\\mehra\\AppData\\Local\\Temp\\tmp05ki1w5w\\model.ckpt-5000\n",
      "\n",
      "TEST SET ACCURACY: 0.900\n",
      "\n"
     ]
    }
   ],
   "source": [
    "eval_result = classifier.evaluate(input_fn=lambda:input_fn(test,test_y,training=False)) \n",
    "#since it is testing, I don't have to train it\n",
    "#We did not specify the steps because the model will only looka t the testing dataset once, unlike the training dataset which needs to be run multiple times\n",
    "print('\\nTEST SET ACCURACY: {accuracy:0.3f}\\n'.format(**eval_result))"
   ]
  },
  {
   "cell_type": "markdown",
   "id": "6f95566b",
   "metadata": {},
   "source": [
    "#### Predictions from the classification"
   ]
  },
  {
   "cell_type": "code",
   "execution_count": 60,
   "id": "2dea014c",
   "metadata": {},
   "outputs": [
    {
     "name": "stdout",
     "output_type": "stream",
     "text": [
      "Please type the numeric values as prompted \n",
      "INFO:tensorflow:Calling model_fn.\n",
      "INFO:tensorflow:Done calling model_fn.\n",
      "INFO:tensorflow:Graph was finalized.\n",
      "INFO:tensorflow:Restoring parameters from C:\\Users\\mehra\\AppData\\Local\\Temp\\tmp05ki1w5w\\model.ckpt-10000\n",
      "INFO:tensorflow:Running local_init_op.\n",
      "INFO:tensorflow:Done running local_init_op.\n",
      "Prediction is \"Setosa\" (40.1%)\n"
     ]
    }
   ],
   "source": [
    "def input_fn(features, batch_size=256):\n",
    "    # Convert the inputs to a Dataset without labels.\n",
    "    return tf.data.Dataset.from_tensor_slices(dict(features)).batch(batch_size)\n",
    "\n",
    "features = ['SepalLength', 'SepalWidth', 'PetalLength', 'PetalWidth']\n",
    "predict = {}\n",
    "\n",
    "#We are essentially creating a function which will predict the probability of the flower lying in every category \n",
    "#given the features the user has entered\n",
    "\n",
    "print('Please type the numeric values as prompted ')\n",
    "for feature in features:\n",
    "    valid = True\n",
    "    while valid:\n",
    "        val = input(feature + \": \")\n",
    "\n",
    "        if not val.isdigit(): #The isdigit() method returns True if all the characters are digits, otherwise False.\n",
    "            valid=False\n",
    "    predict[feature] = [float(val)] #since the input is a string, it is converted to float\n",
    "\n",
    "predictions = classifier.predict(input_fn=lambda:input_fn(predict))\n",
    "\n",
    "for pred_dict in predictions:\n",
    "    class_id = pred_dict['class_ids'][0]\n",
    "    probability = pred_dict['probabilities'][class_id]\n",
    "\n",
    "    print('Prediction is \"{}\" ({:.1f}%)'.format(\n",
    "        SPECIES[class_id], 100 * probability))\n",
    "\n",
    "\n",
    "\n"
   ]
  },
  {
   "cell_type": "code",
   "execution_count": null,
   "id": "57f14140",
   "metadata": {},
   "outputs": [],
   "source": []
  },
  {
   "cell_type": "code",
   "execution_count": null,
   "id": "a0825f8b",
   "metadata": {},
   "outputs": [],
   "source": []
  }
 ],
 "metadata": {
  "kernelspec": {
   "display_name": "Python 3 (ipykernel)",
   "language": "python",
   "name": "python3"
  },
  "language_info": {
   "codemirror_mode": {
    "name": "ipython",
    "version": 3
   },
   "file_extension": ".py",
   "mimetype": "text/x-python",
   "name": "python",
   "nbconvert_exporter": "python",
   "pygments_lexer": "ipython3",
   "version": "3.9.6"
  }
 },
 "nbformat": 4,
 "nbformat_minor": 5
}
